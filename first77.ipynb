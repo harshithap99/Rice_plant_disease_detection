{
  "nbformat": 4,
  "nbformat_minor": 0,
  "metadata": {
    "colab": {
      "name": "Untitled4.ipynb",
      "provenance": [],
      "authorship_tag": "ABX9TyPqc2fZ0KZa7TIacVf2Yc0V",
      "include_colab_link": true
    },
    "kernelspec": {
      "name": "python3",
      "display_name": "Python 3"
    }
  },
  "cells": [
    {
      "cell_type": "markdown",
      "metadata": {
        "id": "view-in-github",
        "colab_type": "text"
      },
      "source": [
        "<a href=\"https://colab.research.google.com/github/harshithap99/open-lab/blob/master/first77.ipynb\" target=\"_parent\"><img src=\"https://colab.research.google.com/assets/colab-badge.svg\" alt=\"Open In Colab\"/></a>"
      ]
    },
    {
      "cell_type": "code",
      "metadata": {
        "id": "oY2zf1KeDxru",
        "colab_type": "code",
        "outputId": "9ff1f1d3-3497-4faa-c79c-2da9008c9c07",
        "colab": {
          "base_uri": "https://localhost:8080/",
          "height": 35
        }
      },
      "source": [
        "import numpy as np\n",
        "import pickle\n",
        "import cv2\n",
        "from os import listdir\n",
        "from sklearn.preprocessing import LabelBinarizer\n",
        "from keras.models import Sequential\n",
        "from keras.layers.normalization import BatchNormalization\n",
        "from keras.layers.convolutional import Conv2D\n",
        "from keras.layers.convolutional import MaxPooling2D\n",
        "from keras.layers.core import Activation, Flatten, Dropout, Dense\n",
        "from keras import backend as K\n",
        "from keras.preprocessing.image import ImageDataGenerator\n",
        "from keras.optimizers import Adam\n",
        "from keras.preprocessing import image\n",
        "from keras.preprocessing.image import img_to_array\n",
        "from sklearn.preprocessing import MultiLabelBinarizer\n",
        "from sklearn.model_selection import train_test_split\n",
        "import matplotlib.pyplot as plt"
      ],
      "execution_count": 1,
      "outputs": [
        {
          "output_type": "stream",
          "text": [
            "Using TensorFlow backend.\n"
          ],
          "name": "stderr"
        }
      ]
    },
    {
      "cell_type": "code",
      "metadata": {
        "id": "GAvU2C8vD8IA",
        "colab_type": "code",
        "outputId": "23ce1828-4c79-4369-f79d-dbf22e8e0835",
        "colab": {
          "base_uri": "https://localhost:8080/",
          "height": 128
        }
      },
      "source": [
        "from google.colab import drive\n",
        "drive.mount('/content/drive')"
      ],
      "execution_count": 2,
      "outputs": [
        {
          "output_type": "stream",
          "text": [
            "Go to this URL in a browser: https://accounts.google.com/o/oauth2/auth?client_id=947318989803-6bn6qk8qdgf4n4g3pfee6491hc0brc4i.apps.googleusercontent.com&redirect_uri=urn%3aietf%3awg%3aoauth%3a2.0%3aoob&response_type=code&scope=email%20https%3a%2f%2fwww.googleapis.com%2fauth%2fdocs.test%20https%3a%2f%2fwww.googleapis.com%2fauth%2fdrive%20https%3a%2f%2fwww.googleapis.com%2fauth%2fdrive.photos.readonly%20https%3a%2f%2fwww.googleapis.com%2fauth%2fpeopleapi.readonly\n",
            "\n",
            "Enter your authorization code:\n",
            "··········\n",
            "Mounted at /content/drive\n"
          ],
          "name": "stdout"
        }
      ]
    },
    {
      "cell_type": "code",
      "metadata": {
        "id": "qOnFmqp1EU4q",
        "colab_type": "code",
        "outputId": "cc883bc0-3158-419c-9ef9-1607623eeeed",
        "colab": {
          "base_uri": "https://localhost:8080/",
          "height": 35
        }
      },
      "source": [
        "EPOCHS = 20\n",
        "INIT_LR = 1e-3\n",
        "BS = 32\n",
        "default_image_size = tuple((256, 256))\n",
        "image_size = 0\n",
        "directory_root ='/content/drive/My Drive/DATASET/LabelledRice'\n",
        "width=256\n",
        "height=256\n",
        "depth=3\n",
        "print(\"Done\")"
      ],
      "execution_count": 3,
      "outputs": [
        {
          "output_type": "stream",
          "text": [
            "Done\n"
          ],
          "name": "stdout"
        }
      ]
    },
    {
      "cell_type": "code",
      "metadata": {
        "id": "pNxM5mPPFUyn",
        "colab_type": "code",
        "outputId": "480593ea-976f-455a-c52a-5837c16b4ff9",
        "colab": {
          "base_uri": "https://localhost:8080/",
          "height": 35
        }
      },
      "source": [
        "def convert_image_to_array(image_dir):\n",
        "    try:\n",
        "        image = cv2.imread(image_dir)\n",
        "        if image is not None :\n",
        "            image = cv2.resize(image, default_image_size)   \n",
        "            return img_to_array(image)\n",
        "        else :\n",
        "            return np.array([])\n",
        "    except Exception as e:\n",
        "        print(f\"Error : {e}\")\n",
        "        return None\n",
        "print(\"Done\")"
      ],
      "execution_count": 4,
      "outputs": [
        {
          "output_type": "stream",
          "text": [
            "Done\n"
          ],
          "name": "stdout"
        }
      ]
    },
    {
      "cell_type": "code",
      "metadata": {
        "id": "2K-rA7CXFcjL",
        "colab_type": "code",
        "outputId": "85c929c1-768c-4c20-cbc6-5e9b3aedab0e",
        "colab": {
          "base_uri": "https://localhost:8080/",
          "height": 126
        }
      },
      "source": [
        "image_list, label_list = [], []\n",
        "try:\n",
        "    print(\"[INFO] Loading images ...\")\n",
        "    root_dir = listdir(directory_root)\n",
        "    for directory in root_dir :\n",
        "        # remove .DS_Store from list\n",
        "        if directory == \".DS_Store\" :\n",
        "            root_dir.remove(directory)\n",
        "\n",
        "    for plant_folder in root_dir :\n",
        "        plant_disease_folder_list = listdir(f\"{directory_root}/{plant_folder}\")\n",
        "        \n",
        "        for disease_folder in plant_disease_folder_list :\n",
        "            # remove .DS_Store from list\n",
        "            if disease_folder == \".DS_Store\" :\n",
        "                plant_disease_folder_list.remove(disease_folder)\n",
        "\n",
        "        for plant_disease_folder in plant_disease_folder_list:\n",
        "            print(f\"[INFO] Processing {plant_disease_folder} ...\")\n",
        "            plant_disease_image_list = listdir(f\"{directory_root}/{plant_folder}/{plant_disease_folder}/\")\n",
        "                \n",
        "            for single_plant_disease_image in plant_disease_image_list :\n",
        "                if single_plant_disease_image == \".DS_Store\" :\n",
        "                    plant_disease_image_list.remove(single_plant_disease_image)\n",
        "\n",
        "            for image in plant_disease_image_list:\n",
        "                image_directory = f\"{directory_root}/{plant_folder}/{plant_disease_folder}/{image}\"\n",
        "                if image_directory.endswith(\".jpg\") == True or image_directory.endswith(\".JPG\") == True:\n",
        "                    image_list.append(convert_image_to_array(image_directory))\n",
        "                    label_list.append(plant_disease_folder)\n",
        "    print(\"[INFO] Image loading completed\")  \n",
        "except Exception as e:\n",
        "    print(f\"Error : {e}\")\n",
        "\n"
      ],
      "execution_count": 5,
      "outputs": [
        {
          "output_type": "stream",
          "text": [
            "[INFO] Loading images ...\n",
            "[INFO] Processing Hispa ...\n",
            "[INFO] Processing LeafBlast ...\n",
            "[INFO] Processing Healthy ...\n",
            "[INFO] Processing BrownSpot ...\n",
            "[INFO] Image loading completed\n"
          ],
          "name": "stdout"
        }
      ]
    },
    {
      "cell_type": "code",
      "metadata": {
        "id": "Himc5ly9OAkT",
        "colab_type": "code",
        "outputId": "8cba278f-6409-43d9-8fcb-f9f263d8a728",
        "colab": {
          "base_uri": "https://localhost:8080/",
          "height": 35
        }
      },
      "source": [
        "image_size = len(image_list)\n",
        "print(image_size)\n"
      ],
      "execution_count": 6,
      "outputs": [
        {
          "output_type": "stream",
          "text": [
            "3354\n"
          ],
          "name": "stdout"
        }
      ]
    },
    {
      "cell_type": "code",
      "metadata": {
        "id": "aDjZKGfFOIqT",
        "colab_type": "code",
        "outputId": "0c0d613b-61dd-4f55-eeae-6d6527e0bb48",
        "colab": {
          "base_uri": "https://localhost:8080/",
          "height": 35
        }
      },
      "source": [
        "label_binarizer = LabelBinarizer()\n",
        "image_labels = label_binarizer.fit_transform(label_list)\n",
        "pickle.dump(label_binarizer,open('label_transform.pkl', 'wb'))\n",
        "n_classes = len(label_binarizer.classes_)\n",
        "print(\"Done\")"
      ],
      "execution_count": 7,
      "outputs": [
        {
          "output_type": "stream",
          "text": [
            "Done\n"
          ],
          "name": "stdout"
        }
      ]
    },
    {
      "cell_type": "code",
      "metadata": {
        "id": "jrLe0eM6OQ9z",
        "colab_type": "code",
        "outputId": "5fb36c6f-b9d9-4408-a960-bcdce33943eb",
        "colab": {
          "base_uri": "https://localhost:8080/",
          "height": 35
        }
      },
      "source": [
        "print(label_binarizer.classes_)\n",
        "np_image_list = np.array(image_list, dtype=np.float16) / 225.0"
      ],
      "execution_count": 8,
      "outputs": [
        {
          "output_type": "stream",
          "text": [
            "['BrownSpot' 'Healthy' 'Hispa' 'LeafBlast']\n"
          ],
          "name": "stdout"
        }
      ]
    },
    {
      "cell_type": "code",
      "metadata": {
        "id": "AVosrp__Oba4",
        "colab_type": "code",
        "outputId": "eb485007-31eb-48b4-db35-7e623044e450",
        "colab": {
          "base_uri": "https://localhost:8080/",
          "height": 35
        }
      },
      "source": [
        "print(\"[INFO] Spliting data to train, test\")\n",
        "x_train, x_test, y_train, y_test = train_test_split(np_image_list, image_labels, test_size=0.30, random_state = 42) "
      ],
      "execution_count": 9,
      "outputs": [
        {
          "output_type": "stream",
          "text": [
            "[INFO] Spliting data to train, test\n"
          ],
          "name": "stdout"
        }
      ]
    },
    {
      "cell_type": "code",
      "metadata": {
        "id": "C5ehSR1FOh5p",
        "colab_type": "code",
        "colab": {}
      },
      "source": [
        "\n",
        "aug = ImageDataGenerator(\n",
        "    rotation_range=30, width_shift_range=0.15,\n",
        "    height_shift_range=0.15, shear_range=0.15, \n",
        "    zoom_range=0.2,horizontal_flip=True, \n",
        "    fill_mode=\"nearest\")"
      ],
      "execution_count": 0,
      "outputs": []
    },
    {
      "cell_type": "code",
      "metadata": {
        "id": "GDySq-xoOs_9",
        "colab_type": "code",
        "colab": {}
      },
      "source": [
        "model = Sequential()\n",
        "inputShape = (height, width, depth)\n",
        "chanDim = -1\n",
        "if K.image_data_format() == \"channels_first\":\n",
        "    inputShape = (depth, height, width)\n",
        "    chanDim = 1\n",
        "model.add(Conv2D(32, (3, 3), padding=\"same\",input_shape=inputShape))\n",
        "model.add(Activation(\"relu\"))\n",
        "model.add(BatchNormalization(axis=chanDim))\n",
        "model.add(MaxPooling2D(pool_size=(3, 3)))\n",
        "model.add(Dropout(0.25))\n",
        "model.add(Conv2D(64, (3, 3), padding=\"same\"))\n",
        "model.add(Activation(\"relu\"))\n",
        "model.add(BatchNormalization(axis=chanDim))\n",
        "model.add(Conv2D(64, (3, 3), padding=\"same\"))\n",
        "model.add(Activation(\"relu\"))\n",
        "model.add(BatchNormalization(axis=chanDim))\n",
        "model.add(MaxPooling2D(pool_size=(2, 2)))\n",
        "model.add(Dropout(0.25))\n",
        "model.add(Conv2D(128, (3, 3), padding=\"same\"))\n",
        "model.add(Activation(\"relu\"))\n",
        "model.add(BatchNormalization(axis=chanDim))\n",
        "model.add(Conv2D(128, (3, 3), padding=\"same\"))\n",
        "model.add(Activation(\"relu\"))\n",
        "model.add(BatchNormalization(axis=chanDim))\n",
        "model.add(MaxPooling2D(pool_size=(2, 2)))\n",
        "model.add(Dropout(0.25))\n",
        "model.add(Flatten())\n",
        "model.add(Dense(1024))\n",
        "model.add(Activation(\"relu\"))\n",
        "model.add(BatchNormalization())\n",
        "model.add(Dropout(0.5))\n",
        "model.add(Dense(n_classes))\n",
        "model.add(Activation(\"softmax\"))\n"
      ],
      "execution_count": 0,
      "outputs": []
    },
    {
      "cell_type": "code",
      "metadata": {
        "id": "jZPjvnXvOzLO",
        "colab_type": "code",
        "outputId": "fd03fa47-7d18-4596-c235-40de00f127f2",
        "colab": {
          "base_uri": "https://localhost:8080/",
          "height": 1000
        }
      },
      "source": [
        "model.summary()"
      ],
      "execution_count": 12,
      "outputs": [
        {
          "output_type": "stream",
          "text": [
            "Model: \"sequential_1\"\n",
            "_________________________________________________________________\n",
            "Layer (type)                 Output Shape              Param #   \n",
            "=================================================================\n",
            "conv2d_1 (Conv2D)            (None, 256, 256, 32)      896       \n",
            "_________________________________________________________________\n",
            "activation_1 (Activation)    (None, 256, 256, 32)      0         \n",
            "_________________________________________________________________\n",
            "batch_normalization_1 (Batch (None, 256, 256, 32)      128       \n",
            "_________________________________________________________________\n",
            "max_pooling2d_1 (MaxPooling2 (None, 85, 85, 32)        0         \n",
            "_________________________________________________________________\n",
            "dropout_1 (Dropout)          (None, 85, 85, 32)        0         \n",
            "_________________________________________________________________\n",
            "conv2d_2 (Conv2D)            (None, 85, 85, 64)        18496     \n",
            "_________________________________________________________________\n",
            "activation_2 (Activation)    (None, 85, 85, 64)        0         \n",
            "_________________________________________________________________\n",
            "batch_normalization_2 (Batch (None, 85, 85, 64)        256       \n",
            "_________________________________________________________________\n",
            "conv2d_3 (Conv2D)            (None, 85, 85, 64)        36928     \n",
            "_________________________________________________________________\n",
            "activation_3 (Activation)    (None, 85, 85, 64)        0         \n",
            "_________________________________________________________________\n",
            "batch_normalization_3 (Batch (None, 85, 85, 64)        256       \n",
            "_________________________________________________________________\n",
            "max_pooling2d_2 (MaxPooling2 (None, 42, 42, 64)        0         \n",
            "_________________________________________________________________\n",
            "dropout_2 (Dropout)          (None, 42, 42, 64)        0         \n",
            "_________________________________________________________________\n",
            "conv2d_4 (Conv2D)            (None, 42, 42, 128)       73856     \n",
            "_________________________________________________________________\n",
            "activation_4 (Activation)    (None, 42, 42, 128)       0         \n",
            "_________________________________________________________________\n",
            "batch_normalization_4 (Batch (None, 42, 42, 128)       512       \n",
            "_________________________________________________________________\n",
            "conv2d_5 (Conv2D)            (None, 42, 42, 128)       147584    \n",
            "_________________________________________________________________\n",
            "activation_5 (Activation)    (None, 42, 42, 128)       0         \n",
            "_________________________________________________________________\n",
            "batch_normalization_5 (Batch (None, 42, 42, 128)       512       \n",
            "_________________________________________________________________\n",
            "max_pooling2d_3 (MaxPooling2 (None, 21, 21, 128)       0         \n",
            "_________________________________________________________________\n",
            "dropout_3 (Dropout)          (None, 21, 21, 128)       0         \n",
            "_________________________________________________________________\n",
            "flatten_1 (Flatten)          (None, 56448)             0         \n",
            "_________________________________________________________________\n",
            "dense_1 (Dense)              (None, 1024)              57803776  \n",
            "_________________________________________________________________\n",
            "activation_6 (Activation)    (None, 1024)              0         \n",
            "_________________________________________________________________\n",
            "batch_normalization_6 (Batch (None, 1024)              4096      \n",
            "_________________________________________________________________\n",
            "dropout_4 (Dropout)          (None, 1024)              0         \n",
            "_________________________________________________________________\n",
            "dense_2 (Dense)              (None, 4)                 4100      \n",
            "_________________________________________________________________\n",
            "activation_7 (Activation)    (None, 4)                 0         \n",
            "=================================================================\n",
            "Total params: 58,091,396\n",
            "Trainable params: 58,088,516\n",
            "Non-trainable params: 2,880\n",
            "_________________________________________________________________\n"
          ],
          "name": "stdout"
        }
      ]
    },
    {
      "cell_type": "code",
      "metadata": {
        "id": "T_RFVR_rPA2O",
        "colab_type": "code",
        "outputId": "26bd66e1-3eea-4cf6-a512-f631b114508d",
        "colab": {
          "base_uri": "https://localhost:8080/",
          "height": 35
        }
      },
      "source": [
        "opt = Adam(lr=INIT_LR, decay=INIT_LR / EPOCHS)\n",
        "# distribution\n",
        "model.compile(loss=\"binary_crossentropy\", optimizer=opt,metrics=[\"accuracy\"])\n",
        "# train the network\n",
        "print(\"[INFO] training network...\")"
      ],
      "execution_count": 13,
      "outputs": [
        {
          "output_type": "stream",
          "text": [
            "[INFO] training network...\n"
          ],
          "name": "stdout"
        }
      ]
    },
    {
      "cell_type": "code",
      "metadata": {
        "id": "-u5RHP0HPQ0J",
        "colab_type": "code",
        "colab": {}
      },
      "source": [
        "\n",
        "from keras.callbacks import ModelCheckpoint\n",
        "\n",
        "checkpoint = ModelCheckpoint('best_model.h5', verbose=1, monitor='acc', save_best_only=True, mode='auto')"
      ],
      "execution_count": 0,
      "outputs": []
    },
    {
      "cell_type": "code",
      "metadata": {
        "id": "DvdXQx6SPV3E",
        "colab_type": "code",
        "outputId": "9628784c-72c2-4813-921e-5c745bf6c4d1",
        "colab": {
          "base_uri": "https://localhost:8080/",
          "height": 781
        }
      },
      "source": [
        "\n",
        "\n",
        "history = model.fit_generator(\n",
        "    aug.flow(x_train, y_train, batch_size=BS),\n",
        "    validation_data=(x_test, y_test),\n",
        "    steps_per_epoch=len(x_train) // BS,\n",
        "    epochs=EPOCHS, verbose=1,\n",
        "    callbacks=[checkpoint]\n",
        "    )\n"
      ],
      "execution_count": 15,
      "outputs": [
        {
          "output_type": "stream",
          "text": [
            "Epoch 1/20\n",
            "73/73 [==============================] - 591s 8s/step - loss: 0.8147 - accuracy: 0.6981 - val_loss: 2.2406 - val_accuracy: 0.6485\n",
            "Epoch 2/20\n"
          ],
          "name": "stdout"
        },
        {
          "output_type": "stream",
          "text": [
            "/usr/local/lib/python3.6/dist-packages/keras/callbacks/callbacks.py:707: RuntimeWarning: Can save best model only with acc available, skipping.\n",
            "  'skipping.' % (self.monitor), RuntimeWarning)\n"
          ],
          "name": "stderr"
        },
        {
          "output_type": "stream",
          "text": [
            "73/73 [==============================] - 592s 8s/step - loss: 0.6418 - accuracy: 0.7350 - val_loss: 0.9911 - val_accuracy: 0.6127\n",
            "Epoch 3/20\n",
            "73/73 [==============================] - 589s 8s/step - loss: 0.6255 - accuracy: 0.7417 - val_loss: 0.5544 - val_accuracy: 0.7306\n",
            "Epoch 4/20\n",
            "73/73 [==============================] - 587s 8s/step - loss: 0.5845 - accuracy: 0.7513 - val_loss: 0.5659 - val_accuracy: 0.7346\n",
            "Epoch 5/20\n",
            "73/73 [==============================] - 587s 8s/step - loss: 0.5777 - accuracy: 0.7471 - val_loss: 0.5918 - val_accuracy: 0.7254\n",
            "Epoch 6/20\n",
            "73/73 [==============================] - 590s 8s/step - loss: 0.5260 - accuracy: 0.7602 - val_loss: 0.5498 - val_accuracy: 0.7311\n",
            "Epoch 7/20\n",
            "73/73 [==============================] - 584s 8s/step - loss: 0.5282 - accuracy: 0.7606 - val_loss: 0.5521 - val_accuracy: 0.7234\n",
            "Epoch 8/20\n",
            "73/73 [==============================] - 580s 8s/step - loss: 0.5127 - accuracy: 0.7641 - val_loss: 0.6934 - val_accuracy: 0.6288\n",
            "Epoch 9/20\n",
            "73/73 [==============================] - 586s 8s/step - loss: 0.5192 - accuracy: 0.7595 - val_loss: 0.8607 - val_accuracy: 0.6428\n",
            "Epoch 10/20\n",
            "73/73 [==============================] - 587s 8s/step - loss: 0.4963 - accuracy: 0.7711 - val_loss: 0.7661 - val_accuracy: 0.6254\n",
            "Epoch 11/20\n",
            "73/73 [==============================] - 587s 8s/step - loss: 0.4948 - accuracy: 0.7702 - val_loss: 0.5541 - val_accuracy: 0.7160\n",
            "Epoch 12/20\n",
            "73/73 [==============================] - 590s 8s/step - loss: 0.4825 - accuracy: 0.7799 - val_loss: 0.5409 - val_accuracy: 0.7242\n",
            "Epoch 13/20\n",
            "73/73 [==============================] - 594s 8s/step - loss: 0.4918 - accuracy: 0.7706 - val_loss: 0.4591 - val_accuracy: 0.7731\n",
            "Epoch 14/20\n",
            "73/73 [==============================] - 592s 8s/step - loss: 0.4735 - accuracy: 0.7806 - val_loss: 0.6353 - val_accuracy: 0.7314\n",
            "Epoch 15/20\n",
            "73/73 [==============================] - 594s 8s/step - loss: 0.4668 - accuracy: 0.7838 - val_loss: 0.4874 - val_accuracy: 0.7843\n",
            "Epoch 16/20\n",
            "73/73 [==============================] - 595s 8s/step - loss: 0.4737 - accuracy: 0.7812 - val_loss: 0.7771 - val_accuracy: 0.7393\n",
            "Epoch 17/20\n",
            "73/73 [==============================] - 594s 8s/step - loss: 0.4774 - accuracy: 0.7740 - val_loss: 0.5135 - val_accuracy: 0.7428\n",
            "Epoch 18/20\n",
            "73/73 [==============================] - 599s 8s/step - loss: 0.4712 - accuracy: 0.7796 - val_loss: 0.7706 - val_accuracy: 0.6879\n",
            "Epoch 19/20\n",
            "73/73 [==============================] - 590s 8s/step - loss: 0.4850 - accuracy: 0.7728 - val_loss: 1.4919 - val_accuracy: 0.6065\n",
            "Epoch 20/20\n",
            "73/73 [==============================] - 594s 8s/step - loss: 0.4756 - accuracy: 0.7756 - val_loss: 0.7412 - val_accuracy: 0.6951\n"
          ],
          "name": "stdout"
        }
      ]
    },
    {
      "cell_type": "code",
      "metadata": {
        "id": "jgHpfIQSPkRS",
        "colab_type": "code",
        "outputId": "3ea541cd-b9b3-4358-c77e-87ec9c294883",
        "colab": {
          "base_uri": "https://localhost:8080/",
          "height": 545
        }
      },
      "source": [
        "acc = history.history['accuracy']\n",
        "val_acc = history.history['val_accuracy']\n",
        "loss = history.history['loss']\n",
        "val_loss = history.history['val_loss']\n",
        "epochs = range(1, len(acc) + 1)\n",
        "#Train and validation accuracy\n",
        "plt.plot(epochs, acc, 'b', label='Training accurarcy')\n",
        "plt.plot(epochs, val_acc, 'r', label='Validation accurarcy')\n",
        "plt.title('Training and Validation accurarcy')\n",
        "plt.legend()\n",
        "\n",
        "plt.figure()\n",
        "#Train and validation loss\n",
        "plt.plot(epochs, loss, 'b', label='Training loss')\n",
        "plt.plot(epochs, val_loss, 'r', label='Validation loss')\n",
        "plt.title('Training and Validation loss')\n",
        "plt.legend()\n",
        "plt.show()"
      ],
      "execution_count": 16,
      "outputs": [
        {
          "output_type": "display_data",
          "data": {
            "image/png": "[encoded data removed]",
            "text/plain": [
              "<Figure size 432x288 with 1 Axes>"
            ]
          },
          "metadata": {
            "tags": [],
            "needs_background": "light"
          }
        },
        {
          "output_type": "display_data",
          "data": {
            "image/png": "[encoded data removed]",
            "text/plain": [
              "<Figure size 432x288 with 1 Axes>"
            ]
          },
          "metadata": {
            "tags": [],
            "needs_background": "light"
          }
        }
      ]
    },
    {
      "cell_type": "code",
      "metadata": {
        "id": "euXvAGIDPpUd",
        "colab_type": "code",
        "outputId": "fc2f6471-5f65-4719-826d-99180319adb7",
        "colab": {
          "base_uri": "https://localhost:8080/",
          "height": 72
        }
      },
      "source": [
        "\n",
        "print(\"[INFO] Calculating model accuracy\")\n",
        "scores = model.evaluate(x_test, y_test)\n",
        "print(f\"Test Accuracy: {scores[1]*100}\")"
      ],
      "execution_count": 17,
      "outputs": [
        {
          "output_type": "stream",
          "text": [
            "[INFO] Calculating model accuracy\n",
            "1007/1007 [==============================] - 64s 63ms/step\n",
            "Test Accuracy: 69.51340436935425\n"
          ],
          "name": "stdout"
        }
      ]
    },
    {
      "cell_type": "code",
      "metadata": {
        "id": "xMehi6JHaTcK",
        "colab_type": "code",
        "colab": {
          "base_uri": "https://localhost:8080/",
          "height": 54
        },
        "outputId": "1e6487b3-fa12-4d2c-f520-1cc394feb97d"
      },
      "source": [
        "y_pred = model.predict(x_test)\n",
        "y_pred = np.argmax(y_pred,axis=1).astype(int)\n",
        "# converting both the values to int will help us to compare easily\n",
        "y_true = np.argmax(y_test,axis = 1).astype(int)\n",
        "corr=[]\n",
        "incorr=[]\n",
        "corr_count=0\n",
        "incorr_count=0\n",
        "\n",
        "for i in range(len(y_test)):\n",
        "   # checking for correct predictions\n",
        "    if(y_pred[i]==y_true[i]):\n",
        "        corr.append(i)\n",
        "        corr_count+=1\n",
        "    else:\n",
        "        incorr.append(i)\n",
        "        incorr_count+=1\n",
        "        \n",
        "print(\"%d Images are identified correctly\" %(corr_count))\n",
        "print(\"%d Images are identified incorrectly\" %(incorr_count))"
      ],
      "execution_count": 21,
      "outputs": [
        {
          "output_type": "stream",
          "text": [
            "331 Images are identified correctly\n",
            "676 Images are identified incorrectly\n"
          ],
          "name": "stdout"
        }
      ]
    },
    {
      "cell_type": "code",
      "metadata": {
        "id": "Fr_q6xrPa8f2",
        "colab_type": "code",
        "colab": {
          "base_uri": "https://localhost:8080/",
          "height": 592
        },
        "outputId": "8bbd311a-fdca-4314-9bfc-aa3d99c2db64"
      },
      "source": [
        "#confusion matrix\n",
        "from sklearn.metrics import confusion_matrix\n",
        "import seaborn as sns\n",
        "import pandas as pd \n",
        "y_pred=model.predict(x_test)\n",
        "y_pred_classes=np.argmax(y_pred,axis=1)\n",
        "y_true=np.argmax(y_test,axis=1)\n",
        "#compute conf mat\n",
        "conf_mat=confusion_matrix(y_true,y_pred_classes)\n",
        "f,ax=plt.subplots(figsize=(10,10))\n",
        "sns.heatmap(conf_mat,annot=True,fmt='.0f')\n",
        "ax.set_xticklabels(np.unique(label_list))\n",
        "ax.set_yticklabels(np.unique(label_list))\n",
        "plt.show()"
      ],
      "execution_count": 25,
      "outputs": [
        {
          "output_type": "display_data",
          "data": {
            "image/png": "[encoded data removed]",
            "text/plain": [
              "<Figure size 720x720 with 2 Axes>"
            ]
          },
          "metadata": {
            "tags": [],
            "needs_background": "light"
          }
        }
      ]
    }
  ]
}